{
 "cells": [
  {
   "cell_type": "code",
   "execution_count": 1,
   "metadata": {},
   "outputs": [],
   "source": [
    "import pandas as pd\n",
    "import openpyxl\n",
    "import os"
   ]
  },
  {
   "cell_type": "code",
   "execution_count": 2,
   "metadata": {},
   "outputs": [],
   "source": [
    "pv_data_path = \"D:\\DOWNLOADED\\Fotowoltaika\""
   ]
  },
  {
   "cell_type": "code",
   "execution_count": 3,
   "metadata": {},
   "outputs": [],
   "source": [
    "excel_files = os.listdir(pv_data_path)\n",
    "pv_dfs = list()\n",
    "for file in excel_files:\n",
    "    filepath = os.path.join(pv_data_path, file)\n",
    "    if \"xlsx\" not in filepath:\n",
    "        continue\n",
    "    df = pd.read_excel(filepath, engine=\"openpyxl\")\n",
    "    pv_dfs.append(df)\n",
    "\n",
    "pv_data = pd.concat(pv_dfs)\n",
    "pv_data = pv_data.rename(columns={' Wartość kWh': 'kWh'})"
   ]
  },
  {
   "cell_type": "code",
   "execution_count": 4,
   "metadata": {},
   "outputs": [
    {
     "name": "stdout",
     "output_type": "stream",
     "text": [
      "                   Data    kWh   Rodzaj  month  year\n",
      "0   2022-03-01 01:00:00  0.051    pobór      3  2022\n",
      "1   2022-03-01 02:00:00  0.049    pobór      3  2022\n",
      "2   2022-03-01 03:00:00  0.052    pobór      3  2022\n",
      "3   2022-03-01 04:00:00  0.049    pobór      3  2022\n",
      "4   2022-03-01 05:00:00  0.052    pobór      3  2022\n",
      "..                  ...    ...      ...    ...   ...\n",
      "763 2024-01-25 20:00:00  0.000  oddanie      1  2024\n",
      "764 2024-01-25 21:00:00  0.000  oddanie      1  2024\n",
      "765 2024-01-25 22:00:00  0.000  oddanie      1  2024\n",
      "766 2024-01-25 23:00:00  0.000  oddanie      1  2024\n",
      "767 2024-01-25 00:00:00  0.000  oddanie      1  2024\n",
      "\n",
      "[34420 rows x 5 columns]\n"
     ]
    }
   ],
   "source": [
    "def replace_24_to_00(df):\n",
    "    df['Data'] = df['Data'].str.replace('24:00', '00:00')\n",
    "    return df\n",
    "\n",
    "pv_data = replace_24_to_00(pv_data.copy())\n",
    "pv_data['Data'] = pd.to_datetime(pv_data['Data'])\n",
    "pv_data['month'] = pv_data['Data'].dt.month\n",
    "pv_data['year'] = pv_data['Data'].dt.year\n",
    "print(pv_data)"
   ]
  },
  {
   "cell_type": "code",
   "execution_count": null,
   "metadata": {},
   "outputs": [],
   "source": []
  },
  {
   "cell_type": "code",
   "execution_count": 5,
   "metadata": {},
   "outputs": [
    {
     "data": {
      "text/plain": [
       "year\n",
       "2022     861.575\n",
       "2023    2455.594\n",
       "2024     347.291\n",
       "Name: kWh, dtype: float64"
      ]
     },
     "execution_count": 5,
     "metadata": {},
     "output_type": "execute_result"
    }
   ],
   "source": [
    "pobor_df = pv_data[pv_data[\"Rodzaj\"] == \"pobór\"]\n",
    "pobor_df_yearly_sum = pobor_df.groupby('year')['kWh'].sum()\n",
    "pobor_df_yearly_sum"
   ]
  },
  {
   "cell_type": "code",
   "execution_count": 6,
   "metadata": {},
   "outputs": [
    {
     "data": {
      "text/plain": [
       "month\n",
       "3      23.594\n",
       "4      16.866\n",
       "5      11.777\n",
       "6      21.193\n",
       "7      14.311\n",
       "8      18.456\n",
       "9      14.093\n",
       "10    107.647\n",
       "11    257.943\n",
       "12    375.695\n",
       "Name: kWh, dtype: float64"
      ]
     },
     "execution_count": 6,
     "metadata": {},
     "output_type": "execute_result"
    }
   ],
   "source": [
    "pobor_df_2022 = pobor_df[pobor_df['year'] == 2023]\n",
    "pobor_df_2022_monthly_sum = pobor_df_2022.groupby('month')['kWh'].sum()\n",
    "pobor_df_2022_monthly_sum"
   ]
  },
  {
   "cell_type": "code",
   "execution_count": 7,
   "metadata": {},
   "outputs": [
    {
     "data": {
      "text/plain": [
       "month\n",
       "1     309.485\n",
       "2     302.206\n",
       "3     233.545\n",
       "4      93.582\n",
       "5      20.985\n",
       "6      27.920\n",
       "7      56.699\n",
       "8     131.916\n",
       "9     114.022\n",
       "10    274.981\n",
       "11    390.275\n",
       "12    499.978\n",
       "Name: kWh, dtype: float64"
      ]
     },
     "execution_count": 7,
     "metadata": {},
     "output_type": "execute_result"
    }
   ],
   "source": [
    "pobor_df_2023 = pobor_df[pobor_df['year'] == 2023]\n",
    "pobor_df_2023_monthly_sum = pobor_df_2023.groupby('month')['kWh'].sum()\n",
    "pobor_df_2023_monthly_sum"
   ]
  },
  {
   "cell_type": "code",
   "execution_count": 59,
   "metadata": {},
   "outputs": [
    {
     "data": {
      "text/plain": [
       "year\n",
       "2022    4409.270\n",
       "2023    4490.477\n",
       "2024      17.058\n",
       "Name: kWh, dtype: float64"
      ]
     },
     "execution_count": 59,
     "metadata": {},
     "output_type": "execute_result"
    }
   ],
   "source": [
    "oddanie_df = pv_data[pv_data[\"Rodzaj\"] == \"oddanie\"]\n",
    "oddanie_df_yearly_sum = oddanie_df.groupby('year')['kWh'].sum()\n",
    "oddanie_df_yearly_sum"
   ]
  },
  {
   "cell_type": "code",
   "execution_count": 61,
   "metadata": {},
   "outputs": [
    {
     "data": {
      "text/plain": [
       "month\n",
       "3       0.009\n",
       "4     515.787\n",
       "5     488.528\n",
       "6     831.885\n",
       "7     812.418\n",
       "8     747.712\n",
       "9     488.150\n",
       "10    381.849\n",
       "11    111.230\n",
       "12     31.702\n",
       "Name: kWh, dtype: float64"
      ]
     },
     "execution_count": 61,
     "metadata": {},
     "output_type": "execute_result"
    }
   ],
   "source": [
    "oddanie_df_2022 = oddanie_df[oddanie_df['year'] == 2022]\n",
    "oddanie_df_2022_monthly_sum = oddanie_df_2022.groupby('month')['kWh'].sum()\n",
    "oddanie_df_2022_monthly_sum"
   ]
  },
  {
   "cell_type": "code",
   "execution_count": 62,
   "metadata": {},
   "outputs": [
    {
     "data": {
      "text/html": [
       "<div>\n",
       "<style scoped>\n",
       "    .dataframe tbody tr th:only-of-type {\n",
       "        vertical-align: middle;\n",
       "    }\n",
       "\n",
       "    .dataframe tbody tr th {\n",
       "        vertical-align: top;\n",
       "    }\n",
       "\n",
       "    .dataframe thead th {\n",
       "        text-align: right;\n",
       "    }\n",
       "</style>\n",
       "<table border=\"1\" class=\"dataframe\">\n",
       "  <thead>\n",
       "    <tr style=\"text-align: right;\">\n",
       "      <th></th>\n",
       "      <th>kWh</th>\n",
       "      <th>cumulative</th>\n",
       "    </tr>\n",
       "    <tr>\n",
       "      <th>month</th>\n",
       "      <th></th>\n",
       "      <th></th>\n",
       "    </tr>\n",
       "  </thead>\n",
       "  <tbody>\n",
       "    <tr>\n",
       "      <th>3</th>\n",
       "      <td>0.009</td>\n",
       "      <td>0.009</td>\n",
       "    </tr>\n",
       "    <tr>\n",
       "      <th>4</th>\n",
       "      <td>515.787</td>\n",
       "      <td>515.796</td>\n",
       "    </tr>\n",
       "    <tr>\n",
       "      <th>5</th>\n",
       "      <td>488.528</td>\n",
       "      <td>1004.324</td>\n",
       "    </tr>\n",
       "    <tr>\n",
       "      <th>6</th>\n",
       "      <td>831.885</td>\n",
       "      <td>1836.209</td>\n",
       "    </tr>\n",
       "    <tr>\n",
       "      <th>7</th>\n",
       "      <td>812.418</td>\n",
       "      <td>2648.627</td>\n",
       "    </tr>\n",
       "    <tr>\n",
       "      <th>8</th>\n",
       "      <td>747.712</td>\n",
       "      <td>3396.339</td>\n",
       "    </tr>\n",
       "    <tr>\n",
       "      <th>9</th>\n",
       "      <td>488.150</td>\n",
       "      <td>3884.489</td>\n",
       "    </tr>\n",
       "    <tr>\n",
       "      <th>10</th>\n",
       "      <td>381.849</td>\n",
       "      <td>4266.338</td>\n",
       "    </tr>\n",
       "    <tr>\n",
       "      <th>11</th>\n",
       "      <td>111.230</td>\n",
       "      <td>4377.568</td>\n",
       "    </tr>\n",
       "    <tr>\n",
       "      <th>12</th>\n",
       "      <td>31.702</td>\n",
       "      <td>4409.270</td>\n",
       "    </tr>\n",
       "  </tbody>\n",
       "</table>\n",
       "</div>"
      ],
      "text/plain": [
       "           kWh  cumulative\n",
       "month                     \n",
       "3        0.009       0.009\n",
       "4      515.787     515.796\n",
       "5      488.528    1004.324\n",
       "6      831.885    1836.209\n",
       "7      812.418    2648.627\n",
       "8      747.712    3396.339\n",
       "9      488.150    3884.489\n",
       "10     381.849    4266.338\n",
       "11     111.230    4377.568\n",
       "12      31.702    4409.270"
      ]
     },
     "execution_count": 62,
     "metadata": {},
     "output_type": "execute_result"
    }
   ],
   "source": [
    "# Create a new DataFrame\n",
    "oddanie_df_2022_cumulative = pd.DataFrame(oddanie_df_2022_monthly_sum)\n",
    "\n",
    "# Add a new column with cumulative results\n",
    "oddanie_df_2022_cumulative['cumulative'] = oddanie_df_2022_cumulative['kWh'].cumsum()\n",
    "oddanie_df_2022_cumulative"
   ]
  },
  {
   "cell_type": "code",
   "execution_count": 63,
   "metadata": {},
   "outputs": [
    {
     "data": {
      "text/plain": [
       "month\n",
       "1      53.830\n",
       "2     150.710\n",
       "3     280.862\n",
       "4     416.940\n",
       "5     648.120\n",
       "6     715.579\n",
       "7     725.265\n",
       "8     531.383\n",
       "9     574.081\n",
       "10    290.543\n",
       "11     73.422\n",
       "12     29.742\n",
       "Name: kWh, dtype: float64"
      ]
     },
     "execution_count": 63,
     "metadata": {},
     "output_type": "execute_result"
    }
   ],
   "source": [
    "oddanie_df_2023 = oddanie_df[oddanie_df['year'] == 2023]\n",
    "oddanie_df_2023_monthly_sum = oddanie_df_2023.groupby('month')['kWh'].sum()\n",
    "oddanie_df_2023_monthly_sum"
   ]
  },
  {
   "cell_type": "code",
   "execution_count": 64,
   "metadata": {},
   "outputs": [
    {
     "data": {
      "text/html": [
       "<div>\n",
       "<style scoped>\n",
       "    .dataframe tbody tr th:only-of-type {\n",
       "        vertical-align: middle;\n",
       "    }\n",
       "\n",
       "    .dataframe tbody tr th {\n",
       "        vertical-align: top;\n",
       "    }\n",
       "\n",
       "    .dataframe thead th {\n",
       "        text-align: right;\n",
       "    }\n",
       "</style>\n",
       "<table border=\"1\" class=\"dataframe\">\n",
       "  <thead>\n",
       "    <tr style=\"text-align: right;\">\n",
       "      <th></th>\n",
       "      <th>kWh</th>\n",
       "      <th>cumulative</th>\n",
       "    </tr>\n",
       "    <tr>\n",
       "      <th>month</th>\n",
       "      <th></th>\n",
       "      <th></th>\n",
       "    </tr>\n",
       "  </thead>\n",
       "  <tbody>\n",
       "    <tr>\n",
       "      <th>1</th>\n",
       "      <td>53.830</td>\n",
       "      <td>53.830</td>\n",
       "    </tr>\n",
       "    <tr>\n",
       "      <th>2</th>\n",
       "      <td>150.710</td>\n",
       "      <td>204.540</td>\n",
       "    </tr>\n",
       "    <tr>\n",
       "      <th>3</th>\n",
       "      <td>280.862</td>\n",
       "      <td>485.402</td>\n",
       "    </tr>\n",
       "    <tr>\n",
       "      <th>4</th>\n",
       "      <td>416.940</td>\n",
       "      <td>902.342</td>\n",
       "    </tr>\n",
       "    <tr>\n",
       "      <th>5</th>\n",
       "      <td>648.120</td>\n",
       "      <td>1550.462</td>\n",
       "    </tr>\n",
       "    <tr>\n",
       "      <th>6</th>\n",
       "      <td>715.579</td>\n",
       "      <td>2266.041</td>\n",
       "    </tr>\n",
       "    <tr>\n",
       "      <th>7</th>\n",
       "      <td>725.265</td>\n",
       "      <td>2991.306</td>\n",
       "    </tr>\n",
       "    <tr>\n",
       "      <th>8</th>\n",
       "      <td>531.383</td>\n",
       "      <td>3522.689</td>\n",
       "    </tr>\n",
       "    <tr>\n",
       "      <th>9</th>\n",
       "      <td>574.081</td>\n",
       "      <td>4096.770</td>\n",
       "    </tr>\n",
       "    <tr>\n",
       "      <th>10</th>\n",
       "      <td>290.543</td>\n",
       "      <td>4387.313</td>\n",
       "    </tr>\n",
       "    <tr>\n",
       "      <th>11</th>\n",
       "      <td>73.422</td>\n",
       "      <td>4460.735</td>\n",
       "    </tr>\n",
       "    <tr>\n",
       "      <th>12</th>\n",
       "      <td>29.742</td>\n",
       "      <td>4490.477</td>\n",
       "    </tr>\n",
       "  </tbody>\n",
       "</table>\n",
       "</div>"
      ],
      "text/plain": [
       "           kWh  cumulative\n",
       "month                     \n",
       "1       53.830      53.830\n",
       "2      150.710     204.540\n",
       "3      280.862     485.402\n",
       "4      416.940     902.342\n",
       "5      648.120    1550.462\n",
       "6      715.579    2266.041\n",
       "7      725.265    2991.306\n",
       "8      531.383    3522.689\n",
       "9      574.081    4096.770\n",
       "10     290.543    4387.313\n",
       "11      73.422    4460.735\n",
       "12      29.742    4490.477"
      ]
     },
     "execution_count": 64,
     "metadata": {},
     "output_type": "execute_result"
    }
   ],
   "source": [
    "# Create a new DataFrame\n",
    "oddanie_df_2023_cumulative = pd.DataFrame(oddanie_df_2023_monthly_sum )\n",
    "\n",
    "# Add a new column with cumulative results\n",
    "oddanie_df_2023_cumulative['cumulative'] = oddanie_df_2023_cumulative['kWh'].cumsum()\n",
    "oddanie_df_2023_cumulative"
   ]
  },
  {
   "cell_type": "code",
   "execution_count": 65,
   "metadata": {},
   "outputs": [
    {
     "data": {
      "text/html": [
       "<div>\n",
       "<style scoped>\n",
       "    .dataframe tbody tr th:only-of-type {\n",
       "        vertical-align: middle;\n",
       "    }\n",
       "\n",
       "    .dataframe tbody tr th {\n",
       "        vertical-align: top;\n",
       "    }\n",
       "\n",
       "    .dataframe thead th {\n",
       "        text-align: right;\n",
       "    }\n",
       "</style>\n",
       "<table border=\"1\" class=\"dataframe\">\n",
       "  <thead>\n",
       "    <tr style=\"text-align: right;\">\n",
       "      <th></th>\n",
       "      <th>kWh</th>\n",
       "      <th>cumulative</th>\n",
       "    </tr>\n",
       "    <tr>\n",
       "      <th>month</th>\n",
       "      <th></th>\n",
       "      <th></th>\n",
       "    </tr>\n",
       "  </thead>\n",
       "  <tbody>\n",
       "    <tr>\n",
       "      <th>3</th>\n",
       "      <td>23.594</td>\n",
       "      <td>23.594</td>\n",
       "    </tr>\n",
       "    <tr>\n",
       "      <th>4</th>\n",
       "      <td>16.866</td>\n",
       "      <td>40.460</td>\n",
       "    </tr>\n",
       "    <tr>\n",
       "      <th>5</th>\n",
       "      <td>11.777</td>\n",
       "      <td>52.237</td>\n",
       "    </tr>\n",
       "    <tr>\n",
       "      <th>6</th>\n",
       "      <td>21.193</td>\n",
       "      <td>73.430</td>\n",
       "    </tr>\n",
       "    <tr>\n",
       "      <th>7</th>\n",
       "      <td>14.311</td>\n",
       "      <td>87.741</td>\n",
       "    </tr>\n",
       "    <tr>\n",
       "      <th>8</th>\n",
       "      <td>18.456</td>\n",
       "      <td>106.197</td>\n",
       "    </tr>\n",
       "    <tr>\n",
       "      <th>9</th>\n",
       "      <td>14.093</td>\n",
       "      <td>120.290</td>\n",
       "    </tr>\n",
       "    <tr>\n",
       "      <th>10</th>\n",
       "      <td>107.647</td>\n",
       "      <td>227.937</td>\n",
       "    </tr>\n",
       "    <tr>\n",
       "      <th>11</th>\n",
       "      <td>257.943</td>\n",
       "      <td>485.880</td>\n",
       "    </tr>\n",
       "    <tr>\n",
       "      <th>12</th>\n",
       "      <td>375.695</td>\n",
       "      <td>861.575</td>\n",
       "    </tr>\n",
       "  </tbody>\n",
       "</table>\n",
       "</div>"
      ],
      "text/plain": [
       "           kWh  cumulative\n",
       "month                     \n",
       "3       23.594      23.594\n",
       "4       16.866      40.460\n",
       "5       11.777      52.237\n",
       "6       21.193      73.430\n",
       "7       14.311      87.741\n",
       "8       18.456     106.197\n",
       "9       14.093     120.290\n",
       "10     107.647     227.937\n",
       "11     257.943     485.880\n",
       "12     375.695     861.575"
      ]
     },
     "execution_count": 65,
     "metadata": {},
     "output_type": "execute_result"
    }
   ],
   "source": [
    "\n",
    "# Create a new DataFrame\n",
    "pobor_df_2022_cumulative = pd.DataFrame(pobor_df_2022_monthly_sum)\n",
    "\n",
    "# Add a new column with cumulative results\n",
    "pobor_df_2022_cumulative['cumulative'] = pobor_df_2022_cumulative['kWh'].cumsum()\n",
    "pobor_df_2022_cumulative"
   ]
  },
  {
   "cell_type": "code",
   "execution_count": 66,
   "metadata": {},
   "outputs": [
    {
     "data": {
      "text/html": [
       "<div>\n",
       "<style scoped>\n",
       "    .dataframe tbody tr th:only-of-type {\n",
       "        vertical-align: middle;\n",
       "    }\n",
       "\n",
       "    .dataframe tbody tr th {\n",
       "        vertical-align: top;\n",
       "    }\n",
       "\n",
       "    .dataframe thead th {\n",
       "        text-align: right;\n",
       "    }\n",
       "</style>\n",
       "<table border=\"1\" class=\"dataframe\">\n",
       "  <thead>\n",
       "    <tr style=\"text-align: right;\">\n",
       "      <th></th>\n",
       "      <th>kWh</th>\n",
       "      <th>cumulative</th>\n",
       "    </tr>\n",
       "    <tr>\n",
       "      <th>month</th>\n",
       "      <th></th>\n",
       "      <th></th>\n",
       "    </tr>\n",
       "  </thead>\n",
       "  <tbody>\n",
       "    <tr>\n",
       "      <th>1</th>\n",
       "      <td>309.485</td>\n",
       "      <td>309.485</td>\n",
       "    </tr>\n",
       "    <tr>\n",
       "      <th>2</th>\n",
       "      <td>302.206</td>\n",
       "      <td>611.691</td>\n",
       "    </tr>\n",
       "    <tr>\n",
       "      <th>3</th>\n",
       "      <td>233.545</td>\n",
       "      <td>845.236</td>\n",
       "    </tr>\n",
       "    <tr>\n",
       "      <th>4</th>\n",
       "      <td>93.582</td>\n",
       "      <td>938.818</td>\n",
       "    </tr>\n",
       "    <tr>\n",
       "      <th>5</th>\n",
       "      <td>20.985</td>\n",
       "      <td>959.803</td>\n",
       "    </tr>\n",
       "    <tr>\n",
       "      <th>6</th>\n",
       "      <td>27.920</td>\n",
       "      <td>987.723</td>\n",
       "    </tr>\n",
       "    <tr>\n",
       "      <th>7</th>\n",
       "      <td>56.699</td>\n",
       "      <td>1044.422</td>\n",
       "    </tr>\n",
       "    <tr>\n",
       "      <th>8</th>\n",
       "      <td>131.916</td>\n",
       "      <td>1176.338</td>\n",
       "    </tr>\n",
       "    <tr>\n",
       "      <th>9</th>\n",
       "      <td>114.022</td>\n",
       "      <td>1290.360</td>\n",
       "    </tr>\n",
       "    <tr>\n",
       "      <th>10</th>\n",
       "      <td>274.981</td>\n",
       "      <td>1565.341</td>\n",
       "    </tr>\n",
       "    <tr>\n",
       "      <th>11</th>\n",
       "      <td>390.275</td>\n",
       "      <td>1955.616</td>\n",
       "    </tr>\n",
       "    <tr>\n",
       "      <th>12</th>\n",
       "      <td>499.978</td>\n",
       "      <td>2455.594</td>\n",
       "    </tr>\n",
       "  </tbody>\n",
       "</table>\n",
       "</div>"
      ],
      "text/plain": [
       "           kWh  cumulative\n",
       "month                     \n",
       "1      309.485     309.485\n",
       "2      302.206     611.691\n",
       "3      233.545     845.236\n",
       "4       93.582     938.818\n",
       "5       20.985     959.803\n",
       "6       27.920     987.723\n",
       "7       56.699    1044.422\n",
       "8      131.916    1176.338\n",
       "9      114.022    1290.360\n",
       "10     274.981    1565.341\n",
       "11     390.275    1955.616\n",
       "12     499.978    2455.594"
      ]
     },
     "execution_count": 66,
     "metadata": {},
     "output_type": "execute_result"
    }
   ],
   "source": [
    "# Create a new DataFrame\n",
    "pobor_df_2023_cumulative = pd.DataFrame(pobor_df_2023_monthly_sum)\n",
    "\n",
    "# Add a new column with cumulative results\n",
    "pobor_df_2023_cumulative['cumulative'] = pobor_df_2023_cumulative['kWh'].cumsum()\n",
    "pobor_df_2023_cumulative"
   ]
  },
  {
   "cell_type": "code",
   "execution_count": 67,
   "metadata": {},
   "outputs": [
    {
     "data": {
      "text/plain": [
       "8916.804999999998"
      ]
     },
     "execution_count": 67,
     "metadata": {},
     "output_type": "execute_result"
    }
   ],
   "source": [
    "oddanie_df[\"kWh\"].sum()"
   ]
  },
  {
   "cell_type": "code",
   "execution_count": 68,
   "metadata": {},
   "outputs": [
    {
     "data": {
      "text/plain": [
       "3664.4599999999996"
      ]
     },
     "execution_count": 68,
     "metadata": {},
     "output_type": "execute_result"
    }
   ],
   "source": [
    "pobor_df[\"kWh\"].sum()"
   ]
  },
  {
   "cell_type": "code",
   "execution_count": 69,
   "metadata": {},
   "outputs": [
    {
     "data": {
      "text/plain": [
       "Timestamp('2022-03-01 00:00:00')"
      ]
     },
     "execution_count": 69,
     "metadata": {},
     "output_type": "execute_result"
    }
   ],
   "source": [
    "oddanie_df[\"Data\"].min()"
   ]
  },
  {
   "cell_type": "code",
   "execution_count": 70,
   "metadata": {},
   "outputs": [
    {
     "data": {
      "text/plain": [
       "Timestamp('2024-01-25 23:00:00')"
      ]
     },
     "execution_count": 70,
     "metadata": {},
     "output_type": "execute_result"
    }
   ],
   "source": [
    "oddanie_df[\"Data\"].max()"
   ]
  },
  {
   "cell_type": "code",
   "execution_count": 71,
   "metadata": {},
   "outputs": [
    {
     "data": {
      "text/plain": [
       "4490.477"
      ]
     },
     "execution_count": 71,
     "metadata": {},
     "output_type": "execute_result"
    }
   ],
   "source": [
    "date_min = '2023-01-01 00:00:00'\n",
    "date_max = '2024-01-01 00:00:00'\n",
    "filtered = oddanie_df[oddanie_df['Data'].between(date_min, date_max)]\n",
    "filtered['kWh'].sum()"
   ]
  },
  {
   "cell_type": "code",
   "execution_count": 72,
   "metadata": {},
   "outputs": [
    {
     "data": {
      "text/plain": [
       "2539.4300000000003"
      ]
     },
     "execution_count": 72,
     "metadata": {},
     "output_type": "execute_result"
    }
   ],
   "source": [
    "date_min = '2023-01-28 00:00:00'\n",
    "date_max = '2024-01-28 00:00:00'\n",
    "filtered = pobor_df[pobor_df['Data'].between(date_min, date_max)]\n",
    "filtered['kWh'].sum()"
   ]
  },
  {
   "cell_type": "code",
   "execution_count": 73,
   "metadata": {},
   "outputs": [
    {
     "data": {
      "text/plain": [
       "485.538"
      ]
     },
     "execution_count": 73,
     "metadata": {},
     "output_type": "execute_result"
    }
   ],
   "source": [
    "date_min = '2022-09-01 00:00:00'\n",
    "date_max = '2022-09-30 00:00:00'\n",
    "filtered = oddanie_df[oddanie_df['Data'].between(date_min, date_max)]\n",
    "filtered['kWh'].sum()"
   ]
  },
  {
   "cell_type": "code",
   "execution_count": null,
   "metadata": {},
   "outputs": [],
   "source": []
  }
 ],
 "metadata": {
  "kernelspec": {
   "display_name": "Python 3",
   "language": "python",
   "name": "python3"
  },
  "language_info": {
   "codemirror_mode": {
    "name": "ipython",
    "version": 3
   },
   "file_extension": ".py",
   "mimetype": "text/x-python",
   "name": "python",
   "nbconvert_exporter": "python",
   "pygments_lexer": "ipython3",
   "version": "3.7.6"
  },
  "orig_nbformat": 4,
  "vscode": {
   "interpreter": {
    "hash": "4faa6a367ba3cd3d24788c37b26a717792eaa81d7e064b67af2af524300c7aa8"
   }
  }
 },
 "nbformat": 4,
 "nbformat_minor": 2
}
